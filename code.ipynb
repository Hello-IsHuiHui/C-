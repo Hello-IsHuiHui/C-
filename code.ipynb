{
 "cells": [
  {
   "cell_type": "markdown",
   "id": "2979ca34",
   "metadata": {},
   "source": [
    "# 全国大学生数学建模大赛2024年 C题 农作物的种植策略"
   ]
  },
  {
   "cell_type": "markdown",
   "id": "174c9423",
   "metadata": {},
   "source": [
    "## 问题一：\n",
    "### 假定各种农作物未来的预期销售量、种植成本、亩产量和销售价格相对于2023年保持稳定，每季种植的农作物在当季销售。如果某种作物每季的总产量超过相应的预期销售量，超过部分不能正常销售。请针对以下两种情况，分别给出该乡村2024~2030年农作物的最优种植方案，将结果分别填入result1_1.xlsx和result1_2.xlsx中（模板文件见附件3）。\n",
    "\n",
    "### (1) 超过部分滞销，造成浪费；(2) 超过部分按2023年销售价格的50%降价出售。"
   ]
  },
  {
   "cell_type": "code",
   "execution_count": null,
   "id": "d83ae38f",
   "metadata": {},
   "outputs": [],
   "source": []
  }
 ],
 "metadata": {
  "kernelspec": {
   "display_name": "Python 3",
   "language": "python",
   "name": "python3"
  },
  "language_info": {
   "name": "python",
   "version": "3.9.21"
  }
 },
 "nbformat": 4,
 "nbformat_minor": 5
}
